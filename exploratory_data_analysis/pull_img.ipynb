{
 "cells": [
  {
   "cell_type": "code",
   "execution_count": 1,
   "id": "d9c782bf",
   "metadata": {},
   "outputs": [],
   "source": [
    "from urllib import request\n",
    "from bs4 import BeautifulSoup as sp\n",
    "import re"
   ]
  },
  {
   "cell_type": "markdown",
   "id": "aaf1db57",
   "metadata": {},
   "source": [
    "### Try to import csv and generate URL "
   ]
  },
  {
   "cell_type": "code",
   "execution_count": 2,
   "id": "91d7d9ce",
   "metadata": {},
   "outputs": [],
   "source": [
    "import pandas as pd\n",
    "import csv"
   ]
  },
  {
   "cell_type": "code",
   "execution_count": 3,
   "id": "28b0dc3a",
   "metadata": {},
   "outputs": [],
   "source": [
    "dataset = pd.read_csv('athleteInformation.csv')\n",
    "dataset.insert(dataset.shape[1], 'pic', \" \")"
   ]
  },
  {
   "cell_type": "code",
   "execution_count": 4,
   "id": "53eee009",
   "metadata": {},
   "outputs": [
    {
     "name": "stdout",
     "output_type": "stream",
     "text": [
      "<class 'pandas.core.frame.DataFrame'>\n",
      "RangeIndex: 3576 entries, 0 to 3575\n",
      "Data columns (total 10 columns):\n",
      " #   Column        Non-Null Count  Dtype  \n",
      "---  ------        --------------  -----  \n",
      " 0   slug_game     3576 non-null   object \n",
      " 1   discipline    3576 non-null   object \n",
      " 2   event         3576 non-null   object \n",
      " 3   medal_type    3576 non-null   object \n",
      " 4   athlete_name  3576 non-null   object \n",
      " 5   country       3576 non-null   object \n",
      " 6   address       3576 non-null   object \n",
      " 7   latitude      3576 non-null   float64\n",
      " 8   longitude     3576 non-null   float64\n",
      " 9   pic           3576 non-null   object \n",
      "dtypes: float64(2), object(8)\n",
      "memory usage: 279.5+ KB\n"
     ]
    }
   ],
   "source": [
    "dataset.info()"
   ]
  },
  {
   "cell_type": "code",
   "execution_count": 5,
   "id": "b3695931",
   "metadata": {},
   "outputs": [
    {
     "name": "stdout",
     "output_type": "stream",
     "text": [
      "          slug_game      discipline                    event medal_type  \\\n",
      "0      2022-beijing        Biathlon  Mixed Relay 4x6km (W+M)       GOLD   \n",
      "1      2022-beijing        Biathlon  Mixed Relay 4x6km (W+M)       GOLD   \n",
      "2      2022-beijing        Biathlon  Mixed Relay 4x6km (W+M)       GOLD   \n",
      "3      2022-beijing        Biathlon  Mixed Relay 4x6km (W+M)       GOLD   \n",
      "4      2022-beijing        Biathlon  Mixed Relay 4x6km (W+M)     SILVER   \n",
      "...             ...             ...                      ...        ...   \n",
      "3571  1924-chamonix  Figure skating              Pairs mixed     BRONZE   \n",
      "3572  1924-chamonix  Figure skating              Pairs mixed     BRONZE   \n",
      "3573  1924-chamonix  Figure skating           Individual men       GOLD   \n",
      "3574  1924-chamonix  Figure skating           Individual men     SILVER   \n",
      "3575  1924-chamonix  Figure skating           Individual men     BRONZE   \n",
      "\n",
      "                 athlete_name      country    address   latitude  longitude  \\\n",
      "0               Tiril ECKHOFF       Norway       Oslo  59.913330  10.738970   \n",
      "1      Marte Olsbu ROEISELAND       Norway       Oslo  59.913330  10.738970   \n",
      "2                  Tarjei BOE       Norway       Oslo  59.913330  10.738970   \n",
      "3       Johannes Thingnes BOE       Norway       Oslo  59.913330  10.738970   \n",
      "4     Anais CHEVALIER-BOUCHET       France      Paris  48.858890   2.320041   \n",
      "...                       ...          ...        ...        ...        ...   \n",
      "3571           Andr??e BRUNET       France      Paris  48.858890   2.320041   \n",
      "3572            Pierre BRUNET       France      Paris  48.858890   2.320041   \n",
      "3573        Gillis GRAFSTR??M       Sweden  Stockholm  59.325117  18.071093   \n",
      "3574             Willy B??CKL      Austria     Vienna  48.208354  16.372504   \n",
      "3575         Georges GAUTSCHI  Switzerland       Bern  46.948271   7.451451   \n",
      "\n",
      "     pic  \n",
      "0         \n",
      "1         \n",
      "2         \n",
      "3         \n",
      "4         \n",
      "...   ..  \n",
      "3571      \n",
      "3572      \n",
      "3573      \n",
      "3574      \n",
      "3575      \n",
      "\n",
      "[3576 rows x 10 columns]\n"
     ]
    }
   ],
   "source": [
    "print(dataset)"
   ]
  },
  {
   "cell_type": "markdown",
   "id": "2f465a9f",
   "metadata": {},
   "source": [
    "### generate URL for wikipedia"
   ]
  },
  {
   "cell_type": "code",
   "execution_count": 6,
   "id": "10622498",
   "metadata": {},
   "outputs": [],
   "source": [
    "list1 =[]\n",
    "for i in range(len(dataset)):\n",
    "    list_ = dataset.iloc[i][4].strip().split(' ')\n",
    "    list1.append(list_)"
   ]
  },
  {
   "cell_type": "code",
   "execution_count": 7,
   "id": "2c3dac40",
   "metadata": {},
   "outputs": [],
   "source": [
    "url_list=[]\n",
    "for i in range(len(list1)):\n",
    "    url_i = 'https://en.wikipedia.org/wiki/'\n",
    "    for j in range(len(list1[i])-1):\n",
    "        url_i = url_i + list1[i][j].capitalize() + '_'\n",
    "    url_i = url_i + list1[i][-1].capitalize()\n",
    "    url_list.append(url_i)"
   ]
  },
  {
   "cell_type": "markdown",
   "id": "c3118e81",
   "metadata": {},
   "source": [
    "### use beautifulsoup to pull image url"
   ]
  },
  {
   "cell_type": "code",
   "execution_count": 8,
   "id": "5e1cd123",
   "metadata": {},
   "outputs": [],
   "source": [
    "from urllib.error import HTTPError"
   ]
  },
  {
   "cell_type": "code",
   "execution_count": 9,
   "id": "225d1d15",
   "metadata": {},
   "outputs": [
    {
     "name": "stdout",
     "output_type": "stream",
     "text": [
      "https://en.wikipedia.org/wiki/Tiril_Eckhoff\n",
      "https://upload.wikimedia.org/wikipedia/commons/thumb/c/cb/Tiril_Eckhoff_001.jpg/220px-Tiril_Eckhoff_001.jpg\n",
      "https://en.wikipedia.org/wiki/Marte_Olsbu_Roeiseland\n",
      "https://upload.wikimedia.org/wikipedia/commons/thumb/c/c1/Marte_Olsbu_R%C3%B8iseland.jpg/220px-Marte_Olsbu_R%C3%B8iseland.jpg\n",
      "https://en.wikipedia.org/wiki/Tarjei_Boe\n",
      "https://upload.wikimedia.org/wikipedia/commons/thumb/3/38/Tarjei_B%C3%B8_biathlete_%28cropped%29.jpg/220px-Tarjei_B%C3%B8_biathlete_%28cropped%29.jpg\n",
      "https://en.wikipedia.org/wiki/Johannes_Thingnes_Boe\n",
      "https://upload.wikimedia.org/wikipedia/commons/thumb/c/c5/2018-01-06_IBU_Biathlon_World_Cup_Oberhof_2018_-_Pursuit_Men_137.jpg/220px-2018-01-06_IBU_Biathlon_World_Cup_Oberhof_2018_-_Pursuit_Men_137.jpg\n",
      "https://en.wikipedia.org/wiki/Anais_Chevalier-bouchet\n",
      "http error\n",
      "https://en.wikipedia.org/wiki/Quentin_Fillon_Maillet\n",
      "https://upload.wikimedia.org/wikipedia/commons/thumb/8/80/Quentin_Fillon_Maillet_2017.jpg/220px-Quentin_Fillon_Maillet_2017.jpg\n",
      "https://en.wikipedia.org/wiki/Emilien_Jacquelin\n",
      "https://upload.wikimedia.org/wikipedia/commons/thumb/c/c8/2020-01-10_IBU_World_Cup_Biathlon_Oberhof_IMG_2906_by_Stepro_%C3%89milien_Jacquelin_%28cropped%29.jpg/220px-2020-01-10_IBU_World_Cup_Biathlon_Oberhof_IMG_2906_by_Stepro_%C3%89milien_Jacquelin_%28cropped%29.jpg\n",
      "https://en.wikipedia.org/wiki/Julia_Simon\n",
      "no figure\n",
      "https://en.wikipedia.org/wiki/Uliana_Nigmatullina\n"
     ]
    },
    {
     "ename": "KeyboardInterrupt",
     "evalue": "",
     "output_type": "error",
     "traceback": [
      "\u001b[1;31m---------------------------------------------------------------------------\u001b[0m",
      "\u001b[1;31mKeyboardInterrupt\u001b[0m                         Traceback (most recent call last)",
      "\u001b[1;32m<ipython-input-9-b123df049739>\u001b[0m in \u001b[0;36m<module>\u001b[1;34m\u001b[0m\n\u001b[0;32m      3\u001b[0m     \u001b[0mprint\u001b[0m\u001b[1;33m(\u001b[0m\u001b[0murl\u001b[0m\u001b[1;33m)\u001b[0m\u001b[1;33m\u001b[0m\u001b[1;33m\u001b[0m\u001b[0m\n\u001b[0;32m      4\u001b[0m     \u001b[1;32mtry\u001b[0m\u001b[1;33m:\u001b[0m\u001b[1;33m\u001b[0m\u001b[1;33m\u001b[0m\u001b[0m\n\u001b[1;32m----> 5\u001b[1;33m         \u001b[0mhtml\u001b[0m \u001b[1;33m=\u001b[0m \u001b[0mrequest\u001b[0m\u001b[1;33m.\u001b[0m\u001b[0murlopen\u001b[0m\u001b[1;33m(\u001b[0m\u001b[0murl\u001b[0m\u001b[1;33m)\u001b[0m\u001b[1;33m.\u001b[0m\u001b[0mread\u001b[0m\u001b[1;33m(\u001b[0m\u001b[1;33m)\u001b[0m\u001b[1;33m\u001b[0m\u001b[1;33m\u001b[0m\u001b[0m\n\u001b[0m\u001b[0;32m      6\u001b[0m         \u001b[0msoup\u001b[0m \u001b[1;33m=\u001b[0m \u001b[0msp\u001b[0m\u001b[1;33m(\u001b[0m\u001b[0mhtml\u001b[0m\u001b[1;33m,\u001b[0m\u001b[1;34m\"html.parser\"\u001b[0m\u001b[1;33m)\u001b[0m\u001b[1;33m\u001b[0m\u001b[1;33m\u001b[0m\u001b[0m\n\u001b[0;32m      7\u001b[0m         \u001b[0mlistall\u001b[0m \u001b[1;33m=\u001b[0m \u001b[0msoup\u001b[0m\u001b[1;33m.\u001b[0m\u001b[0mfind_all\u001b[0m\u001b[1;33m(\u001b[0m\u001b[1;34m\"img\"\u001b[0m\u001b[1;33m)\u001b[0m\u001b[1;33m\u001b[0m\u001b[1;33m\u001b[0m\u001b[0m\n",
      "\u001b[1;32mD:\\anaconda3\\lib\\http\\client.py\u001b[0m in \u001b[0;36mread\u001b[1;34m(self, amt)\u001b[0m\n\u001b[0;32m    469\u001b[0m             \u001b[1;32melse\u001b[0m\u001b[1;33m:\u001b[0m\u001b[1;33m\u001b[0m\u001b[1;33m\u001b[0m\u001b[0m\n\u001b[0;32m    470\u001b[0m                 \u001b[1;32mtry\u001b[0m\u001b[1;33m:\u001b[0m\u001b[1;33m\u001b[0m\u001b[1;33m\u001b[0m\u001b[0m\n\u001b[1;32m--> 471\u001b[1;33m                     \u001b[0ms\u001b[0m \u001b[1;33m=\u001b[0m \u001b[0mself\u001b[0m\u001b[1;33m.\u001b[0m\u001b[0m_safe_read\u001b[0m\u001b[1;33m(\u001b[0m\u001b[0mself\u001b[0m\u001b[1;33m.\u001b[0m\u001b[0mlength\u001b[0m\u001b[1;33m)\u001b[0m\u001b[1;33m\u001b[0m\u001b[1;33m\u001b[0m\u001b[0m\n\u001b[0m\u001b[0;32m    472\u001b[0m                 \u001b[1;32mexcept\u001b[0m \u001b[0mIncompleteRead\u001b[0m\u001b[1;33m:\u001b[0m\u001b[1;33m\u001b[0m\u001b[1;33m\u001b[0m\u001b[0m\n\u001b[0;32m    473\u001b[0m                     \u001b[0mself\u001b[0m\u001b[1;33m.\u001b[0m\u001b[0m_close_conn\u001b[0m\u001b[1;33m(\u001b[0m\u001b[1;33m)\u001b[0m\u001b[1;33m\u001b[0m\u001b[1;33m\u001b[0m\u001b[0m\n",
      "\u001b[1;32mD:\\anaconda3\\lib\\http\\client.py\u001b[0m in \u001b[0;36m_safe_read\u001b[1;34m(self, amt)\u001b[0m\n\u001b[0;32m    610\u001b[0m         \u001b[0mIncompleteRead\u001b[0m \u001b[0mexception\u001b[0m \u001b[0mcan\u001b[0m \u001b[0mbe\u001b[0m \u001b[0mused\u001b[0m \u001b[0mto\u001b[0m \u001b[0mdetect\u001b[0m \u001b[0mthe\u001b[0m \u001b[0mproblem\u001b[0m\u001b[1;33m.\u001b[0m\u001b[1;33m\u001b[0m\u001b[1;33m\u001b[0m\u001b[0m\n\u001b[0;32m    611\u001b[0m         \"\"\"\n\u001b[1;32m--> 612\u001b[1;33m         \u001b[0mdata\u001b[0m \u001b[1;33m=\u001b[0m \u001b[0mself\u001b[0m\u001b[1;33m.\u001b[0m\u001b[0mfp\u001b[0m\u001b[1;33m.\u001b[0m\u001b[0mread\u001b[0m\u001b[1;33m(\u001b[0m\u001b[0mamt\u001b[0m\u001b[1;33m)\u001b[0m\u001b[1;33m\u001b[0m\u001b[1;33m\u001b[0m\u001b[0m\n\u001b[0m\u001b[0;32m    613\u001b[0m         \u001b[1;32mif\u001b[0m \u001b[0mlen\u001b[0m\u001b[1;33m(\u001b[0m\u001b[0mdata\u001b[0m\u001b[1;33m)\u001b[0m \u001b[1;33m<\u001b[0m \u001b[0mamt\u001b[0m\u001b[1;33m:\u001b[0m\u001b[1;33m\u001b[0m\u001b[1;33m\u001b[0m\u001b[0m\n\u001b[0;32m    614\u001b[0m             \u001b[1;32mraise\u001b[0m \u001b[0mIncompleteRead\u001b[0m\u001b[1;33m(\u001b[0m\u001b[0mdata\u001b[0m\u001b[1;33m,\u001b[0m \u001b[0mamt\u001b[0m\u001b[1;33m-\u001b[0m\u001b[0mlen\u001b[0m\u001b[1;33m(\u001b[0m\u001b[0mdata\u001b[0m\u001b[1;33m)\u001b[0m\u001b[1;33m)\u001b[0m\u001b[1;33m\u001b[0m\u001b[1;33m\u001b[0m\u001b[0m\n",
      "\u001b[1;32mD:\\anaconda3\\lib\\socket.py\u001b[0m in \u001b[0;36mreadinto\u001b[1;34m(self, b)\u001b[0m\n\u001b[0;32m    667\u001b[0m         \u001b[1;32mwhile\u001b[0m \u001b[1;32mTrue\u001b[0m\u001b[1;33m:\u001b[0m\u001b[1;33m\u001b[0m\u001b[1;33m\u001b[0m\u001b[0m\n\u001b[0;32m    668\u001b[0m             \u001b[1;32mtry\u001b[0m\u001b[1;33m:\u001b[0m\u001b[1;33m\u001b[0m\u001b[1;33m\u001b[0m\u001b[0m\n\u001b[1;32m--> 669\u001b[1;33m                 \u001b[1;32mreturn\u001b[0m \u001b[0mself\u001b[0m\u001b[1;33m.\u001b[0m\u001b[0m_sock\u001b[0m\u001b[1;33m.\u001b[0m\u001b[0mrecv_into\u001b[0m\u001b[1;33m(\u001b[0m\u001b[0mb\u001b[0m\u001b[1;33m)\u001b[0m\u001b[1;33m\u001b[0m\u001b[1;33m\u001b[0m\u001b[0m\n\u001b[0m\u001b[0;32m    670\u001b[0m             \u001b[1;32mexcept\u001b[0m \u001b[0mtimeout\u001b[0m\u001b[1;33m:\u001b[0m\u001b[1;33m\u001b[0m\u001b[1;33m\u001b[0m\u001b[0m\n\u001b[0;32m    671\u001b[0m                 \u001b[0mself\u001b[0m\u001b[1;33m.\u001b[0m\u001b[0m_timeout_occurred\u001b[0m \u001b[1;33m=\u001b[0m \u001b[1;32mTrue\u001b[0m\u001b[1;33m\u001b[0m\u001b[1;33m\u001b[0m\u001b[0m\n",
      "\u001b[1;32mD:\\anaconda3\\lib\\ssl.py\u001b[0m in \u001b[0;36mrecv_into\u001b[1;34m(self, buffer, nbytes, flags)\u001b[0m\n\u001b[0;32m   1239\u001b[0m                   \u001b[1;34m\"non-zero flags not allowed in calls to recv_into() on %s\"\u001b[0m \u001b[1;33m%\u001b[0m\u001b[1;33m\u001b[0m\u001b[1;33m\u001b[0m\u001b[0m\n\u001b[0;32m   1240\u001b[0m                   self.__class__)\n\u001b[1;32m-> 1241\u001b[1;33m             \u001b[1;32mreturn\u001b[0m \u001b[0mself\u001b[0m\u001b[1;33m.\u001b[0m\u001b[0mread\u001b[0m\u001b[1;33m(\u001b[0m\u001b[0mnbytes\u001b[0m\u001b[1;33m,\u001b[0m \u001b[0mbuffer\u001b[0m\u001b[1;33m)\u001b[0m\u001b[1;33m\u001b[0m\u001b[1;33m\u001b[0m\u001b[0m\n\u001b[0m\u001b[0;32m   1242\u001b[0m         \u001b[1;32melse\u001b[0m\u001b[1;33m:\u001b[0m\u001b[1;33m\u001b[0m\u001b[1;33m\u001b[0m\u001b[0m\n\u001b[0;32m   1243\u001b[0m             \u001b[1;32mreturn\u001b[0m \u001b[0msuper\u001b[0m\u001b[1;33m(\u001b[0m\u001b[1;33m)\u001b[0m\u001b[1;33m.\u001b[0m\u001b[0mrecv_into\u001b[0m\u001b[1;33m(\u001b[0m\u001b[0mbuffer\u001b[0m\u001b[1;33m,\u001b[0m \u001b[0mnbytes\u001b[0m\u001b[1;33m,\u001b[0m \u001b[0mflags\u001b[0m\u001b[1;33m)\u001b[0m\u001b[1;33m\u001b[0m\u001b[1;33m\u001b[0m\u001b[0m\n",
      "\u001b[1;32mD:\\anaconda3\\lib\\ssl.py\u001b[0m in \u001b[0;36mread\u001b[1;34m(self, len, buffer)\u001b[0m\n\u001b[0;32m   1097\u001b[0m         \u001b[1;32mtry\u001b[0m\u001b[1;33m:\u001b[0m\u001b[1;33m\u001b[0m\u001b[1;33m\u001b[0m\u001b[0m\n\u001b[0;32m   1098\u001b[0m             \u001b[1;32mif\u001b[0m \u001b[0mbuffer\u001b[0m \u001b[1;32mis\u001b[0m \u001b[1;32mnot\u001b[0m \u001b[1;32mNone\u001b[0m\u001b[1;33m:\u001b[0m\u001b[1;33m\u001b[0m\u001b[1;33m\u001b[0m\u001b[0m\n\u001b[1;32m-> 1099\u001b[1;33m                 \u001b[1;32mreturn\u001b[0m \u001b[0mself\u001b[0m\u001b[1;33m.\u001b[0m\u001b[0m_sslobj\u001b[0m\u001b[1;33m.\u001b[0m\u001b[0mread\u001b[0m\u001b[1;33m(\u001b[0m\u001b[0mlen\u001b[0m\u001b[1;33m,\u001b[0m \u001b[0mbuffer\u001b[0m\u001b[1;33m)\u001b[0m\u001b[1;33m\u001b[0m\u001b[1;33m\u001b[0m\u001b[0m\n\u001b[0m\u001b[0;32m   1100\u001b[0m             \u001b[1;32melse\u001b[0m\u001b[1;33m:\u001b[0m\u001b[1;33m\u001b[0m\u001b[1;33m\u001b[0m\u001b[0m\n\u001b[0;32m   1101\u001b[0m                 \u001b[1;32mreturn\u001b[0m \u001b[0mself\u001b[0m\u001b[1;33m.\u001b[0m\u001b[0m_sslobj\u001b[0m\u001b[1;33m.\u001b[0m\u001b[0mread\u001b[0m\u001b[1;33m(\u001b[0m\u001b[0mlen\u001b[0m\u001b[1;33m)\u001b[0m\u001b[1;33m\u001b[0m\u001b[1;33m\u001b[0m\u001b[0m\n",
      "\u001b[1;31mKeyboardInterrupt\u001b[0m: "
     ]
    }
   ],
   "source": [
    "for i in range(len(url_list)):\n",
    "    url = url_list[i]\n",
    "    print(url)\n",
    "    try:\n",
    "        html = request.urlopen(url).read()\n",
    "        soup = sp(html,\"html.parser\")\n",
    "        listall = soup.find_all(\"img\")\n",
    "        for mylist in listall:\n",
    "            find_flag = 0\n",
    "            if \"JPG\" in mylist[\"src\"] or \"jpg\" in mylist[\"src\"]:\n",
    "                img_url = \"https:\"+mylist[\"src\"]\n",
    "                print (img_url)\n",
    "                dataset.iloc[i,-1] = img_url\n",
    "                find_flag = 1\n",
    "                break\n",
    "        if find_flag == 0:\n",
    "            print('no figure')\n",
    "    except HTTPError:\n",
    "        print(\"http error\")\n",
    "        pass"
   ]
  },
  {
   "cell_type": "code",
   "execution_count": 10,
   "id": "3804146f",
   "metadata": {},
   "outputs": [
    {
     "name": "stdout",
     "output_type": "stream",
     "text": [
      "0       https://upload.wikimedia.org/wikipedia/commons...\n",
      "1       https://upload.wikimedia.org/wikipedia/commons...\n",
      "2       https://upload.wikimedia.org/wikipedia/commons...\n",
      "3       https://upload.wikimedia.org/wikipedia/commons...\n",
      "4                                                        \n",
      "                              ...                        \n",
      "3571                                                     \n",
      "3572                                                     \n",
      "3573                                                     \n",
      "3574                                                     \n",
      "3575                                                     \n",
      "Name: pic, Length: 3576, dtype: object\n"
     ]
    }
   ],
   "source": [
    "print(dataset[\"pic\"])"
   ]
  },
  {
   "cell_type": "code",
   "execution_count": null,
   "id": "0c12ed35",
   "metadata": {},
   "outputs": [],
   "source": [
    "# write back into csv\n",
    "dataset.to_csv(\"./imageInformation.csv\", index=False, sep=',') "
   ]
  },
  {
   "cell_type": "code",
   "execution_count": null,
   "id": "9c8206bc",
   "metadata": {},
   "outputs": [],
   "source": []
  }
 ],
 "metadata": {
  "kernelspec": {
   "display_name": "Python 3",
   "language": "python",
   "name": "python3"
  },
  "language_info": {
   "codemirror_mode": {
    "name": "ipython",
    "version": 3
   },
   "file_extension": ".py",
   "mimetype": "text/x-python",
   "name": "python",
   "nbconvert_exporter": "python",
   "pygments_lexer": "ipython3",
   "version": "3.8.8"
  }
 },
 "nbformat": 4,
 "nbformat_minor": 5
}
